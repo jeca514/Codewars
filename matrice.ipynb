{
 "cells": [
  {
   "cell_type": "code",
   "execution_count": 7,
   "metadata": {},
   "outputs": [
    {
     "ename": "ModuleNotFoundError",
     "evalue": "No module named 'numpy'",
     "output_type": "error",
     "traceback": [
      "\u001b[1;31m---------------------------------------------------------------------------\u001b[0m",
      "\u001b[1;31mModuleNotFoundError\u001b[0m                       Traceback (most recent call last)",
      "Cell \u001b[1;32mIn[7], line 1\u001b[0m\n\u001b[1;32m----> 1\u001b[0m \u001b[38;5;28;01mimport\u001b[39;00m\u001b[38;5;250m \u001b[39m\u001b[38;5;21;01mnumpy\u001b[39;00m\u001b[38;5;250m \u001b[39m\u001b[38;5;28;01mas\u001b[39;00m\u001b[38;5;250m \u001b[39m\u001b[38;5;21;01mnp\u001b[39;00m\n",
      "\u001b[1;31mModuleNotFoundError\u001b[0m: No module named 'numpy'"
     ]
    }
   ],
   "source": [
    "import numpy as np"
   ]
  },
  {
   "cell_type": "code",
   "execution_count": 4,
   "metadata": {},
   "outputs": [],
   "source": [
    "escalar= 1\n",
    "vector = [1,2]\n",
    "matriz1 = [\n",
    "        [1,2],\n",
    "        [3,4]\n",
    "        ]\n",
    "matriz2 = [\n",
    "        [1,3],\n",
    "        [7,6]\n",
    "        ]"
   ]
  },
  {
   "cell_type": "code",
   "execution_count": 3,
   "metadata": {},
   "outputs": [
    {
     "name": "stdout",
     "output_type": "stream",
     "text": [
      "1\n",
      "2\n",
      "3\n",
      "4\n"
     ]
    }
   ],
   "source": [
    "for i in range(len(matriz)):\n",
    "    for j in range(len(matriz[i])):\n",
    "        print(matriz[i][j]*escalar)"
   ]
  },
  {
   "cell_type": "code",
   "execution_count": 6,
   "metadata": {},
   "outputs": [
    {
     "name": "stdout",
     "output_type": "stream",
     "text": [
      "[[2, 5], [10, 10]]\n"
     ]
    }
   ],
   "source": [
    "# suma de matrices a_ixj\n",
    "matriz3 = []\n",
    "for i in range(len(matriz1)):\n",
    "    matriz3.append([])\n",
    "    for j in range(len(matriz1[i])):\n",
    "        matriz3[i].append(matriz1[i][j]+matriz2[i][j])\n",
    "        \n",
    "print(matriz3)"
   ]
  },
  {
   "cell_type": "code",
   "execution_count": null,
   "metadata": {},
   "outputs": [],
   "source": [
    "# tabla de efectividad pokemon\n",
    "tabla = [\n",
    "\t['Type', 'Effective Against', 'Not Effective Against'],\n",
    "\t['Fire', 'Grass, Ice, Bug, Steel', 'Fire, Water, Rock, Dragon'],\n",
    "\t['Water', 'Fire, Ground, Rock', 'Water, Grass, Dragon'],\n",
    "\t['Grass', 'Water, Ground, Rock', 'Fire, Grass, Poison, Flying, Bug, Dragon, Steel']\n",
    "]"
   ]
  }
 ],
 "metadata": {
  "kernelspec": {
   "display_name": "Python 3",
   "language": "python",
   "name": "python3"
  },
  "language_info": {
   "codemirror_mode": {
    "name": "ipython",
    "version": 3
   },
   "file_extension": ".py",
   "mimetype": "text/x-python",
   "name": "python",
   "nbconvert_exporter": "python",
   "pygments_lexer": "ipython3",
   "version": "3.11.9"
  }
 },
 "nbformat": 4,
 "nbformat_minor": 2
}
