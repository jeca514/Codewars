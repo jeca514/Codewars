{
 "cells": [
  {
   "cell_type": "code",
   "execution_count": 5,
   "metadata": {},
   "outputs": [
    {
     "ename": "TypeError",
     "evalue": "Can't instantiate abstract class Pato with abstract method hacer_sonido",
     "output_type": "error",
     "traceback": [
      "\u001b[1;31m---------------------------------------------------------------------------\u001b[0m",
      "\u001b[1;31mTypeError\u001b[0m                                 Traceback (most recent call last)",
      "Cell \u001b[1;32mIn[5], line 39\u001b[0m\n\u001b[0;32m     37\u001b[0m gato \u001b[38;5;241m=\u001b[39m Gato(\u001b[38;5;124m\"\u001b[39m\u001b[38;5;124mFelix\u001b[39m\u001b[38;5;124m\"\u001b[39m)\n\u001b[0;32m     38\u001b[0m perro \u001b[38;5;241m=\u001b[39m Perro(\u001b[38;5;124m\"\u001b[39m\u001b[38;5;124mRex\u001b[39m\u001b[38;5;124m\"\u001b[39m)\n\u001b[1;32m---> 39\u001b[0m pato \u001b[38;5;241m=\u001b[39m \u001b[43mPato\u001b[49m\u001b[43m(\u001b[49m\u001b[38;5;124;43m\"\u001b[39;49m\u001b[38;5;124;43mLucas\u001b[39;49m\u001b[38;5;124;43m\"\u001b[39;49m\u001b[43m)\u001b[49m\n\u001b[0;32m     41\u001b[0m \u001b[38;5;66;03m# Describir los animales y sus sonidos\u001b[39;00m\n\u001b[0;32m     42\u001b[0m gato\u001b[38;5;241m.\u001b[39mdescribir()\n",
      "\u001b[1;31mTypeError\u001b[0m: Can't instantiate abstract class Pato with abstract method hacer_sonido"
     ]
    }
   ],
   "source": [
    "from abc import ABC, abstractmethod\n",
    "\n",
    "# Clase base abstracta para animales\n",
    "class Animal(ABC):\n",
    "    def __init__(self, nombre):\n",
    "        self.nombre = nombre\n",
    "\n",
    "    @abstractmethod\n",
    "    def hacer_sonido(self):\n",
    "        pass  # Cada animal debe implementar este método para hacer su propio sonido\n",
    "\n",
    "    def describir(self):\n",
    "        print(f\"{self.nombre} es un animal que hace el siguiente sonido: {self.hacer_sonido()}\")\n",
    "\n",
    "# Clase hija para Gato\n",
    "class Gato(Animal):\n",
    "    def __init__(self, nombre):\n",
    "        super().__init__(nombre)\n",
    "\n",
    "    def hacer_sonido(self):\n",
    "        return \"Miau\"\n",
    "\n",
    "# Clase hija para Perro\n",
    "class Perro(Animal):\n",
    "    def __init__(self, nombre):\n",
    "        super().__init__(nombre)\n",
    "\n",
    "    def hacer_sonido(self):\n",
    "        return \"Guau\"\n",
    "\n",
    "# Clase hija para Perro\n",
    "class Pato(Animal):\n",
    "    def __init__(self, nombre):\n",
    "        super().__init__(nombre)\n",
    "\n",
    "# Crear instancias de Gato y Perro\n",
    "gato = Gato(\"Felix\")\n",
    "perro = Perro(\"Rex\")\n",
    "pato = Pato(\"Lucas\")\n",
    "\n",
    "# Describir los animales y sus sonidos\n",
    "gato.describir()\n",
    "perro.describir()\n",
    "pato.describir()\n",
    "\n"
   ]
  }
 ],
 "metadata": {
  "kernelspec": {
   "display_name": "Python 3",
   "language": "python",
   "name": "python3"
  },
  "language_info": {
   "codemirror_mode": {
    "name": "ipython",
    "version": 3
   },
   "file_extension": ".py",
   "mimetype": "text/x-python",
   "name": "python",
   "nbconvert_exporter": "python",
   "pygments_lexer": "ipython3",
   "version": "3.11.9"
  }
 },
 "nbformat": 4,
 "nbformat_minor": 2
}
