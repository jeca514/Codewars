{
 "cells": [
  {
   "cell_type": "markdown",
   "metadata": {},
   "source": [
    "# @singledispatch\n"
   ]
  },
  {
   "cell_type": "markdown",
   "metadata": {},
   "source": [
    "## metodo comun\n"
   ]
  },
  {
   "cell_type": "code",
   "execution_count": null,
   "metadata": {},
   "outputs": [
    {
     "ename": "",
     "evalue": "",
     "output_type": "error",
     "traceback": [
      "\u001b[1;31mRunning cells with 'Python 3.11.2' requires the ipykernel package.\n",
      "\u001b[1;31mRun the following command to install 'ipykernel' into the Python environment. \n",
      "\u001b[1;31mCommand: '/usr/bin/python3 -m pip install ipykernel -U --user --force-reinstall'"
     ]
    }
   ],
   "source": [
    "from functools import singledispatch\n",
    "\n",
    "class Calculadora:\n",
    "    @singledispatch\n",
    "    def sumar(self, a, b):\n",
    "        return a + b\n",
    "\n",
    "    @sumar.register\n",
    "    def _(self, a: int, b: int, c: int):\n",
    "        return a + b + c\n",
    "\n",
    "    @sumar.register\n",
    "    def _(self, a: float, b: float):\n",
    "        return a + b"
   ]
  },
  {
   "cell_type": "code",
   "execution_count": null,
   "metadata": {},
   "outputs": [],
   "source": [
    "calc = Calculadora()\n",
    "\n",
    "# Usar el método sumar con dos enteros\n",
    "resultado1 = calc.sumar(1, 2)\n",
    "print(f\"Resultado de sumar 1 y 2: {resultado1}\")\n",
    "\n",
    "# Usar el método sumar con tres enteros\n",
    "resultado2 = calc.sumar(1, 2, 3)\n",
    "print(f\"Resultado de sumar 1, 2 y 3: {resultado2}\")\n",
    "\n",
    "# Usar el método sumar con dos flotantes\n",
    "resultado3 = calc.sumar(1.5, 2.5)\n",
    "print(f\"Resultado de sumar 1.5 y 2.5: {resultado3}\")"
   ]
  }
 ],
 "metadata": {
  "kernelspec": {
   "display_name": "Python 3",
   "language": "python",
   "name": "python3"
  },
  "language_info": {
   "name": "python",
   "version": "3.11.2"
  }
 },
 "nbformat": 4,
 "nbformat_minor": 2
}
