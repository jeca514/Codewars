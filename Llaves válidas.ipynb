{
 "cells": [
  {
   "cell_type": "markdown",
   "metadata": {},
   "source": [
    "# Llaves Validas\n",
    "\n",
    "Escriba una función que tome una cadena de llaves y determine si el orden de las llaves es válido. Debe devolver si la cadena es válida y si no es válida.truefalse\n",
    "\n",
    "Este Kata es similar al Kata Paréntesis Válidos, pero introduce nuevos caracteres: corchetes y llaves. ¡Gracias por la idea![]{}@arnedag\n",
    "\n",
    "Todas las cadenas de entrada no estarán vacías y solo constarán de paréntesis, corchetes y llaves: . ()[]{}\n",
    "\n",
    "¿Qué se considera válido?\n",
    "Una cadena de llaves se considera válida si todas las llaves coinciden con la llave correcta.\n",
    "\n",
    "```markdown\n",
    "Ejemplos\n",
    "\"(){}[]\"   =>  True\n",
    "\"([{}])\"   =>  True\n",
    "\"(}\"       =>  False\n",
    "\"[(])\"     =>  False\n",
    "\"[({})](]\" =>  False\n",
    "```"
   ]
  },
  {
   "cell_type": "markdown",
   "metadata": {},
   "source": [
    "Creacion de string de prueba y Diccionario que se usara"
   ]
  },
  {
   "cell_type": "code",
   "execution_count": 2,
   "metadata": {},
   "outputs": [],
   "source": [
    "string_01 = '(){}[]'\n",
    "string_02 = '([{}])'\n",
    "string_03 = '(}'\n",
    "string_04 = '[(])'\n",
    "string_05 = '[({})][]'\n",
    "string_06 = '}'\n",
    "string_07 = '(((({{'\n",
    "\n",
    "validbraces = {'(': ')', '[': ']', '{': '}'}\n",
    "Comprrobacion = \"\""
   ]
  },
  {
   "cell_type": "markdown",
   "metadata": {},
   "source": [
    "Creacion de la logica que tendra la funcion"
   ]
  },
  {
   "cell_type": "code",
   "execution_count": 19,
   "metadata": {},
   "outputs": [
    {
     "name": "stdout",
     "output_type": "stream",
     "text": [
      "False\n"
     ]
    }
   ],
   "source": [
    "string = string_06\n",
    "strTemporal = \"\"\n",
    "\n",
    "# si la longitud de la cadena es impar al agregar llaves de a pares no se puede formar una pareja si no es impar\n",
    "if len(string) % 2 != 0:  \n",
    "    Comprrobacion = False \n",
    "else:\n",
    "    # recorremos la cadena de llaves\n",
    "    for i in string:\n",
    "        if i in validbraces: # si la llave esta en el diccionario se agrega a la cadena temporal\n",
    "            strTemporal += i  # se agrega porque las llaves de apertura son las keys del diccionario que se usa para validar\n",
    "                              # se hace hasta que se encuentre una llave de cierre o otro caracter  \n",
    "        else:\n",
    "            # si la cadena temporal tiene longitud mayor a 0 \n",
    "            # indica que se agrego un caracter valido a la cadena temporal\n",
    "            if len(strTemporal) > 0:\n",
    "                # se valida que el caracter sea el de cierre de la llave que se encuentra en la ultima posicion de la cadena temporal\n",
    "                if validbraces[strTemporal[-1]] == i: \n",
    "                    strTemporal = strTemporal[:-1]  # se elimina el ultimo caracter de la cadena temporal\n",
    "                    Comprrobacion = True   # se indica que la cadena es valida hasta que se acabe de recorrer la cadena de llaves\n",
    "                                           # sera verdad hasta qeu se encuentre un caracter que no sea valido o se acabe la cadena\n",
    "                else:\n",
    "                    Comprrobacion = False \n",
    "                    break\n",
    "            else:\n",
    "                Comprrobacion = False\n",
    "                break\n",
    "\n",
    "print(Comprrobacion)          \n"
   ]
  },
  {
   "cell_type": "markdown",
   "metadata": {},
   "source": [
    "# Creacion de la funcion que permita arreglar el problema"
   ]
  },
  {
   "cell_type": "code",
   "execution_count": 20,
   "metadata": {},
   "outputs": [],
   "source": [
    "def valid_braces(string):\n",
    "    validbraces = {'(': ')', '[': ']', '{': '}'}\n",
    "    strTemporal = \"\"\n",
    "    Comprrobacion = \"\"\n",
    "\n",
    "    if len(string) % 2 != 0:  \n",
    "        Comprrobacion = False \n",
    "    else:\n",
    "        for i in string:\n",
    "            if i in validbraces:\n",
    "                strTemporal += i\n",
    "            else:\n",
    "                if len(strTemporal) > 0:\n",
    "                    if validbraces[strTemporal[-1]] == i:\n",
    "                        strTemporal = strTemporal[:-1]\n",
    "                        Comprrobacion = True\n",
    "                    else:\n",
    "                        Comprrobacion = False\n",
    "                        break\n",
    "                else:\n",
    "                    Comprrobacion = False\n",
    "                    break\n",
    "\n",
    "    return Comprrobacion\n"
   ]
  },
  {
   "cell_type": "code",
   "execution_count": 25,
   "metadata": {},
   "outputs": [
    {
     "name": "stdout",
     "output_type": "stream",
     "text": [
      "False\n"
     ]
    }
   ],
   "source": [
    "print(valid_braces(string_04))"
   ]
  }
 ],
 "metadata": {
  "kernelspec": {
   "display_name": "Python 3",
   "language": "python",
   "name": "python3"
  },
  "language_info": {
   "codemirror_mode": {
    "name": "ipython",
    "version": 3
   },
   "file_extension": ".py",
   "mimetype": "text/x-python",
   "name": "python",
   "nbconvert_exporter": "python",
   "pygments_lexer": "ipython3",
   "version": "3.11.5"
  }
 },
 "nbformat": 4,
 "nbformat_minor": 2
}
