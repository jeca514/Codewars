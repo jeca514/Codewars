{
 "cells": [
  {
   "cell_type": "markdown",
   "metadata": {},
   "source": [
    "# Llaves Validas\n",
    "\n",
    "Escriba una función que tome una cadena de llaves y determine si el orden de las llaves es válido. Debe devolver si la cadena es válida y si no es válida.truefalse\n",
    "\n",
    "Este Kata es similar al Kata Paréntesis Válidos, pero introduce nuevos caracteres: corchetes y llaves. ¡Gracias por la idea![]{}@arnedag\n",
    "\n",
    "Todas las cadenas de entrada no estarán vacías y solo constarán de paréntesis, corchetes y llaves: . ()[]{}\n",
    "\n",
    "¿Qué se considera válido?\n",
    "Una cadena de llaves se considera válida si todas las llaves coinciden con la llave correcta.\n",
    "\n",
    "```markdown\n",
    "Ejemplos\n",
    "\"(){}[]\"   =>  True\n",
    "\"([{}])\"   =>  True\n",
    "\"(}\"       =>  False\n",
    "\"[(])\"     =>  False\n",
    "\"[({})](]\" =>  False\n",
    "```"
   ]
  },
  {
   "cell_type": "markdown",
   "metadata": {},
   "source": [
    "Creacion de string de prueba y Diccionario que se usara"
   ]
  },
  {
   "cell_type": "markdown",
   "metadata": {},
   "source": [
    "Creacion de la logica que tendra la funcion"
   ]
  },
  {
   "cell_type": "code",
   "execution_count": 2,
   "metadata": {},
   "outputs": [],
   "source": [
    "string_01 = '(){}[]'\n",
    "string_02 = '([{}])'\n",
    "string_03 = '(}'\n",
    "string_04 = '[(])'\n",
    "string_05 = '[({})][]'\n",
    "string_06 = '}'\n",
    "string_07 = '(((({{'\n",
    "\n",
    "valid_braces = {'(': ')', '[': ']', '{': '}'}\n",
    "Comprrobacion = \"\""
   ]
  },
  {
   "cell_type": "code",
   "execution_count": 3,
   "metadata": {},
   "outputs": [
    {
     "name": "stdout",
     "output_type": "stream",
     "text": [
      "False\n"
     ]
    }
   ],
   "source": [
    "string = string_07\n",
    "str_temporal = \"\"\n",
    "\n",
    "# Si la longitud de la cadena es impar, al agregar llaves de a pares no se puede formar una pareja si no es impar\n",
    "if len(string) % 2 != 0:\n",
    "    comprobacion = False\n",
    "else:\n",
    "    # Recorremos la cadena de llaves\n",
    "    for i in string:\n",
    "        comprobacion = False  # Hasta que no se demuestre lo contrario, es falso\n",
    "        if i in valid_braces:  # Si la llave está en el diccionario, se agrega a la cadena temporal\n",
    "            str_temporal += i  # Se agrega porque las llaves de apertura son las keys del diccionario que se usa para validar\n",
    "            # Se hace hasta que se encuentre una llave de cierre o otro caracter\n",
    "        else:\n",
    "            \"\"\"\n",
    "            Si la cadena temporal tiene longitud mayor a 0 \n",
    "            indica que se agregó un caracter válido a la cadena temporal\n",
    "            \"\"\"\n",
    "            if len(str_temporal) > 0:\n",
    "                # Se valida que el caracter sea el de cierre de la llave que se encuentra en la última posición de la cadena temporal\n",
    "                if valid_braces[str_temporal[-1]] == i:\n",
    "                    # Se elimina el último caracter de la cadena temporal\n",
    "                    str_temporal = str_temporal[:-1]\n",
    "                    # Se indica que la cadena es válida hasta que se acabe de recorrer la cadena de llaves\n",
    "                    comprobacion = True\n",
    "                    # Será verdadero hasta que se encuentre un caracter que no sea válido o se acabe la cadena\n",
    "                else:\n",
    "                    comprobacion = False\n",
    "                    break\n",
    "            else:\n",
    "                comprobacion = False\n",
    "                break\n",
    "\n",
    "print(comprobacion)"
   ]
  },
  {
   "cell_type": "markdown",
   "metadata": {},
   "source": [
    "# Creacion de la funcion que permita arreglar el problema"
   ]
  },
  {
   "cell_type": "code",
   "execution_count": 5,
   "metadata": {},
   "outputs": [],
   "source": [
    "def valid_braces(string):\n",
    "    valid_braces = {'(': ')', '[': ']', '{': '}'}\n",
    "    str_Temporal = \"\"\n",
    "    comprobacion = \"\"\n",
    "\n",
    "    if len(string) % 2 != 0:\n",
    "        comprobacion = False\n",
    "    else:\n",
    "        for i in string:\n",
    "            comprobacion = False\n",
    "            if i in valid_braces:\n",
    "                str_Temporal += i\n",
    "            else:\n",
    "                if len(str_Temporal) > 0:\n",
    "                    if str_Temporal == string:\n",
    "                        comprobacion = False\n",
    "                        break\n",
    "                    else:\n",
    "                        if valid_braces[str_Temporal[-1]] == i:\n",
    "                            str_Temporal = str_Temporal[:-1]\n",
    "                            comprobacion = True\n",
    "                        else:\n",
    "                            comprobacion = False\n",
    "                            break\n",
    "                else:\n",
    "                    comprobacion = False\n",
    "                    break\n",
    "\n",
    "    return comprobacion"
   ]
  },
  {
   "cell_type": "code",
   "execution_count": 7,
   "metadata": {},
   "outputs": [
    {
     "name": "stdout",
     "output_type": "stream",
     "text": [
      "False\n"
     ]
    }
   ],
   "source": [
    "print(valid_braces(string_07))"
   ]
  },
  {
   "cell_type": "markdown",
   "metadata": {},
   "source": [
    "# Otras Soluciones"
   ]
  },
  {
   "cell_type": "code",
   "execution_count": 22,
   "metadata": {},
   "outputs": [],
   "source": [
    "def valid_braces2(string):\n",
    "    validbraces = {'(': ')', '[': ']', '{': '}'}\n",
    "    stack = []\n",
    "\n",
    "    for char in string:  # Recorre la cadena de llaves\n",
    "        if char in validbraces:  # Si el caracter es una llave de apertura, se agrega a la pila\n",
    "            # Se agrega porque las llaves de apertura son las keys del diccionario que se usa para validar\n",
    "            stack.append(char)\n",
    "        # Si el caracter es una llave de cierre, se compara con el valor de la llave de apertura que se encuentra en la última posición de la pila\n",
    "        elif not stack or validbraces[stack.pop()] != char:\n",
    "            return False\n",
    "\n",
    "    return not stack  # Devuelve True si la pila está vacía, False si no lo está"
   ]
  },
  {
   "cell_type": "code",
   "execution_count": 24,
   "metadata": {},
   "outputs": [
    {
     "name": "stdout",
     "output_type": "stream",
     "text": [
      "False\n"
     ]
    }
   ],
   "source": [
    "print(valid_braces2(string_07))"
   ]
  },
  {
   "cell_type": "code",
   "execution_count": 19,
   "metadata": {},
   "outputs": [],
   "source": [
    "\"\"\"\n",
    "elimina los caracteres de la cadena que se encuentran en el diccionario y devuelve la cadena sin esos caracteres\n",
    "si esta vacia la cadena es valida si no es invalida\n",
    "\"\"\"\n",
    "\n",
    "\n",
    "def validBraces(s, previous=''):\n",
    "    while s != previous:\n",
    "        previous, s = s, s.replace('[]', '').replace(\n",
    "            '{}', '').replace('()', '')\n",
    "    return not s"
   ]
  },
  {
   "cell_type": "code",
   "execution_count": 21,
   "metadata": {},
   "outputs": [
    {
     "name": "stdout",
     "output_type": "stream",
     "text": [
      "False\n"
     ]
    }
   ],
   "source": [
    "print(validBraces(string_07))"
   ]
  }
 ],
 "metadata": {
  "kernelspec": {
   "display_name": "Python 3",
   "language": "python",
   "name": "python3"
  },
  "language_info": {
   "codemirror_mode": {
    "name": "ipython",
    "version": 3
   },
   "file_extension": ".py",
   "mimetype": "text/x-python",
   "name": "python",
   "nbconvert_exporter": "python",
   "pygments_lexer": "ipython3",
   "version": "3.11.5"
  }
 },
 "nbformat": 4,
 "nbformat_minor": 2
}
